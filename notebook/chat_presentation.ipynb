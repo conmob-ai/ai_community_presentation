{
 "cells": [
  {
   "cell_type": "markdown",
   "metadata": {},
   "source": [
    "### Install required packages"
   ]
  },
  {
   "cell_type": "code",
   "execution_count": null,
   "metadata": {},
   "outputs": [],
   "source": [
    "# %pip install -r ../requirement.txt"
   ]
  },
  {
   "cell_type": "markdown",
   "metadata": {},
   "source": [
    "## Import Secret"
   ]
  },
  {
   "cell_type": "code",
   "execution_count": null,
   "metadata": {},
   "outputs": [],
   "source": [
    "import os\n",
    "from dotenv import load_dotenv\n",
    "\n",
    "load_dotenv(override=True)\n",
    "\n",
    "# Confluence\n",
    "CONFLUENCE_TOKEN = os.getenv('CONFLUENCE_TOKEN')\n",
    "\n",
    "# Database\n",
    "COSMOSDB_VCORE_CONNECTION_STRING = os.getenv('COSMOSDB_VCORE_CONNECTION_STRING')\n",
    "COSMOSDB_NAMESPACE = os.getenv('COSMOSDB_NAMESPACE')\n",
    "\n",
    "# Azure OpenAI API\n",
    "AZURE_OPENAI_ENDPOINT = os.getenv('AZURE_OPENAI_ENDPOINT')\n",
    "OPENAI_API_KEY = os.getenv('OPENAI_API_KEY')\n",
    "OPENAI_API_VERSION = os.getenv('OPENAI_API_VERSION')\n",
    "\n",
    "# LLM\n",
    "AZURE_OPENAI_LLM_DEPLOYMENT_NAME = os.getenv('AZURE_OPENAI_LLM_DEPLOYMENT_NAME')\n",
    "AZURE_OPENAI_LLM_MODEL_NAME = os.getenv('AZURE_OPENAI_LLM_MODEL_NAME')\n",
    "\n",
    "# Embedding\n",
    "AZURE_OPENAI_EMBEDDING_DEPLOYMENT_NAME = os.getenv('AZURE_OPENAI_EMBEDDING_DEPLOYMENT_NAME')\n",
    "AZURE_OPENAI_EMBEDDING_MODEL_NAME = os.getenv('AZURE_OPENAI_EMBEDDING_MODEL_NAME')"
   ]
  },
  {
   "cell_type": "markdown",
   "metadata": {},
   "source": [
    "<img src=\"images/confluence-Loader-vectorstore.png\" alt=\"confluence loader\" height=\"100\">\n"
   ]
  },
  {
   "cell_type": "markdown",
   "metadata": {},
   "source": [
    "## Pull Confluence Documents"
   ]
  },
  {
   "cell_type": "code",
   "execution_count": null,
   "metadata": {},
   "outputs": [],
   "source": [
    "from langchain.document_loaders import ConfluenceLoader\n",
    "\n",
    "loader = ConfluenceLoader(\n",
    "    url=\"https://strive.devops.t-systems.net/confluence/\",\n",
    "    token=CONFLUENCE_TOKEN\n",
    ")\n",
    "\n",
    "confluence_documents = loader.load(\n",
    "    space_key=\"SDV\", \n",
    "    include_attachments=False, \n",
    "    limit=1000,\n",
    "    max_pages=1000,\n",
    ")\n",
    "\n",
    "print(confluence_documents[0])\n",
    "print(f'{len(confluence_documents)} documents read from Confluence.')"
   ]
  },
  {
   "cell_type": "markdown",
   "metadata": {},
   "source": [
    "## Split Confluence Documents"
   ]
  },
  {
   "cell_type": "code",
   "execution_count": null,
   "metadata": {},
   "outputs": [],
   "source": [
    "from langchain.text_splitter import RecursiveCharacterTextSplitter\n",
    "\n",
    "text_splitter = RecursiveCharacterTextSplitter(\n",
    "    chunk_size = 1024, \n",
    "    chunk_overlap = 300,\n",
    "    length_function = len)\n",
    "\n",
    "splitted_documents = text_splitter.split_documents(confluence_documents)\n",
    "\n",
    "print(f'{len(splitted_documents)} chunks generated.')\n",
    "print(splitted_documents[0])"
   ]
  },
  {
   "cell_type": "markdown",
   "metadata": {},
   "source": [
    "## Setup Openai Embeddings"
   ]
  },
  {
   "cell_type": "code",
   "execution_count": null,
   "metadata": {},
   "outputs": [],
   "source": [
    "from langchain_openai import AzureOpenAIEmbeddings\n",
    "\n",
    "openai_embeddings = AzureOpenAIEmbeddings(\n",
    "    azure_deployment=AZURE_OPENAI_EMBEDDING_DEPLOYMENT_NAME,\n",
    "    openai_api_version=OPENAI_API_VERSION,\n",
    "    model=AZURE_OPENAI_EMBEDDING_MODEL_NAME,\n",
    "    embedding_ctx_length=8191,\n",
    "    chunk_size= 1024 \n",
    ")\n",
    "print(openai_embeddings)"
   ]
  },
  {
   "cell_type": "markdown",
   "metadata": {},
   "source": [
    "<img src=\"images/vectorstore.png\" alt=\"Example Image\" width=\"72\" height=\"72\">\n",
    "\n",
    "## Store Documents to COSMOSDB vCore"
   ]
  },
  {
   "cell_type": "code",
   "execution_count": null,
   "metadata": {},
   "outputs": [],
   "source": [
    "from langchain_community.vectorstores.azure_cosmos_db import (\n",
    "    AzureCosmosDBVectorSearch,\n",
    "    CosmosDBSimilarityType,\n",
    ")\n",
    "from pymongo import MongoClient\n",
    "\n",
    "_indexName = 'km-index'\n",
    "_dbName, _collectionName = COSMOSDB_NAMESPACE.split(\".\")\n",
    "\n",
    "client: MongoClient = MongoClient(COSMOSDB_VCORE_CONNECTION_STRING)\n",
    "collection = client[_dbName][_collectionName]\n",
    "\n",
    "collection.database.drop_collection(_collectionName)\n",
    "\n",
    "vectorstore = AzureCosmosDBVectorSearch.from_documents(\n",
    "    splitted_documents,\n",
    "    openai_embeddings,\n",
    "    collection=collection,\n",
    "    index_name=_indexName,\n",
    ")\n",
    "\n",
    "num_lists = 100\n",
    "dimensions = 1536\n",
    "similarity_algorithm = CosmosDBSimilarityType.COS\n",
    "\n",
    "vectorstore.create_index(num_lists, dimensions, similarity_algorithm)\n"
   ]
  },
  {
   "cell_type": "markdown",
   "metadata": {},
   "source": [
    "<img src=\"images/llm.png\" alt=\"llm\" width=\"100\" height=\"100\">\n",
    "\n",
    "# RAG"
   ]
  },
  {
   "cell_type": "code",
   "execution_count": null,
   "metadata": {},
   "outputs": [],
   "source": [
    "import time\n",
    "from langchain.chat_models import AzureChatOpenAI\n",
    "from langchain.chains.qa_with_sources import load_qa_with_sources_chain\n",
    "\n",
    "# Setup of the LLM and the chain\n",
    "llm = AzureChatOpenAI(\n",
    "    azure_deployment=AZURE_OPENAI_LLM_DEPLOYMENT_NAME, \n",
    "    model=AZURE_OPENAI_LLM_MODEL_NAME,\n",
    "    temperature=0.8\n",
    ")\n",
    "\n",
    "chain = load_qa_with_sources_chain(\n",
    "    llm, \n",
    "    chain_type=\"stuff\"\n",
    ")\n",
    "\n",
    "# query = \"Does the context provide who the first man on the moon was?\"\n",
    "query = \"Who is the team lead of knowledge management?\"\n",
    "# query = \"Who is Sirin Tiryaki?\"\n",
    "# query = \"What is Knowledge Management?\"\n",
    "# query = \"What is Knowledge Management? Explain in German.\"\n",
    "# query = \"Who is Jörg Tischler?\"\n",
    "# query = \"Who is the Business Unit Lead in Connected Mobility at T-Systems?\"\n",
    "# query = \"How can I book an external training?\"\n",
    "# query = \"Explain SDV to a 10-year-old.\"\n",
    "# query = \"what are hypercubes?\"\n",
    "\n",
    "matching_docs = vectorstore.similarity_search(query, k=5)\n",
    "\n",
    "answer = chain.run(input_documents=matching_docs, question=query)\n",
    "\n",
    "print(f\"Found {len(matching_docs)} matching documents.\")\n",
    "print(f\"Answer: {answer}\")"
   ]
  }
 ],
 "metadata": {
  "kernelspec": {
   "display_name": "Python 3",
   "language": "python",
   "name": "python3"
  },
  "language_info": {
   "codemirror_mode": {
    "name": "ipython",
    "version": 3
   },
   "file_extension": ".py",
   "mimetype": "text/x-python",
   "name": "python",
   "nbconvert_exporter": "python",
   "pygments_lexer": "ipython3",
   "version": "3.11.9"
  }
 },
 "nbformat": 4,
 "nbformat_minor": 2
}
